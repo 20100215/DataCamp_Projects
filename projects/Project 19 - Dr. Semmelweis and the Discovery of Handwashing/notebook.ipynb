{
  "cells": [
    {
      "cell_type": "markdown",
      "metadata": {
        "dc": {
          "key": "13f090f9f0"
        },
        "run_control": {
          "frozen": true
        },
        "tags": [
          "context"
        ]
      },
      "source": [
        "## 1. Meet Dr. Ignaz Semmelweis\n",
        "\n",
        "![Dr. Ignaz Semmelweis](datasets/ignaz_semmelweis_1860.jpeg)\n",
        "\n",
        "<p>This is Dr. Ignaz Semmelweis, a Hungarian physician born in 1818 and active at the Vienna General Hospital. If Dr. Semmelweis looks troubled it's probably because he's thinking about <em>childbed fever</em>: A deadly disease affecting women that just have given birth. He is thinking about it because in the early 1840s at the Vienna General Hospital as many as 10% of the women giving birth die from it. He is thinking about it because he knows the cause of childbed fever: It's the contaminated hands of the doctors delivering the babies. And they won't listen to him and <em>wash their hands</em>!</p>\n",
        "<p>In this notebook, we're going to reanalyze the data that made Semmelweis discover the importance of <em>handwashing</em>. Let's start by looking at the data that made Semmelweis realize that something was wrong with the procedures at Vienna General Hospital.</p>"
      ]
    },
    {
      "cell_type": "code",
      "execution_count": 90,
      "metadata": {
        "dc": {
          "key": "13f090f9f0"
        },
        "tags": [
          "sample_code"
        ],
        "trusted": true
      },
      "outputs": [
        {
          "data": {
            "text/html": [
              "<div>\n",
              "<style scoped>\n",
              "    .dataframe tbody tr th:only-of-type {\n",
              "        vertical-align: middle;\n",
              "    }\n",
              "\n",
              "    .dataframe tbody tr th {\n",
              "        vertical-align: top;\n",
              "    }\n",
              "\n",
              "    .dataframe thead th {\n",
              "        text-align: right;\n",
              "    }\n",
              "</style>\n",
              "<table border=\"1\" class=\"dataframe\">\n",
              "  <thead>\n",
              "    <tr style=\"text-align: right;\">\n",
              "      <th></th>\n",
              "      <th>year</th>\n",
              "      <th>births</th>\n",
              "      <th>deaths</th>\n",
              "      <th>clinic</th>\n",
              "    </tr>\n",
              "  </thead>\n",
              "  <tbody>\n",
              "    <tr>\n",
              "      <th>0</th>\n",
              "      <td>1841</td>\n",
              "      <td>3036</td>\n",
              "      <td>237</td>\n",
              "      <td>clinic 1</td>\n",
              "    </tr>\n",
              "    <tr>\n",
              "      <th>1</th>\n",
              "      <td>1842</td>\n",
              "      <td>3287</td>\n",
              "      <td>518</td>\n",
              "      <td>clinic 1</td>\n",
              "    </tr>\n",
              "    <tr>\n",
              "      <th>2</th>\n",
              "      <td>1843</td>\n",
              "      <td>3060</td>\n",
              "      <td>274</td>\n",
              "      <td>clinic 1</td>\n",
              "    </tr>\n",
              "    <tr>\n",
              "      <th>3</th>\n",
              "      <td>1844</td>\n",
              "      <td>3157</td>\n",
              "      <td>260</td>\n",
              "      <td>clinic 1</td>\n",
              "    </tr>\n",
              "    <tr>\n",
              "      <th>4</th>\n",
              "      <td>1845</td>\n",
              "      <td>3492</td>\n",
              "      <td>241</td>\n",
              "      <td>clinic 1</td>\n",
              "    </tr>\n",
              "  </tbody>\n",
              "</table>\n",
              "</div>"
            ],
            "text/plain": [
              "   year  births  deaths    clinic\n",
              "0  1841    3036     237  clinic 1\n",
              "1  1842    3287     518  clinic 1\n",
              "2  1843    3060     274  clinic 1\n",
              "3  1844    3157     260  clinic 1\n",
              "4  1845    3492     241  clinic 1"
            ]
          },
          "execution_count": 90,
          "metadata": {},
          "output_type": "execute_result"
        }
      ],
      "source": [
        "# Importing modules\n",
        "import pandas as pd\n",
        "# Read datasets/yearly_deaths_by_clinic.csv into yearly\n",
        "yearly = pd.read_csv('datasets/yearly_deaths_by_clinic.csv')\n",
        "\n",
        "# Print out yearly\n",
        "yearly.head()"
      ]
    },
    {
      "cell_type": "markdown",
      "metadata": {
        "dc": {
          "key": "45ea098e15"
        },
        "run_control": {
          "frozen": true
        },
        "tags": [
          "context"
        ]
      },
      "source": [
        "## 2. The alarming number of deaths\n",
        "<p>The table above shows the number of women giving birth at the two clinics at the Vienna General Hospital for the years 1841 to 1846. You'll notice that giving birth was very dangerous; an <em>alarming</em> number of women died as the result of childbirth, most of them from childbed fever.</p>\n",
        "<p>We see this more clearly if we look at the <em>proportion of deaths</em> out of the number of women giving birth. Let's zoom in on the proportion of deaths at Clinic 1.</p>"
      ]
    },
    {
      "cell_type": "code",
      "execution_count": 92,
      "metadata": {
        "dc": {
          "key": "45ea098e15"
        },
        "tags": [
          "sample_code"
        ],
        "trusted": true
      },
      "outputs": [
        {
          "data": {
            "text/html": [
              "<div>\n",
              "<style scoped>\n",
              "    .dataframe tbody tr th:only-of-type {\n",
              "        vertical-align: middle;\n",
              "    }\n",
              "\n",
              "    .dataframe tbody tr th {\n",
              "        vertical-align: top;\n",
              "    }\n",
              "\n",
              "    .dataframe thead th {\n",
              "        text-align: right;\n",
              "    }\n",
              "</style>\n",
              "<table border=\"1\" class=\"dataframe\">\n",
              "  <thead>\n",
              "    <tr style=\"text-align: right;\">\n",
              "      <th></th>\n",
              "      <th>year</th>\n",
              "      <th>births</th>\n",
              "      <th>deaths</th>\n",
              "      <th>clinic</th>\n",
              "      <th>proportion_deaths</th>\n",
              "    </tr>\n",
              "  </thead>\n",
              "  <tbody>\n",
              "    <tr>\n",
              "      <th>0</th>\n",
              "      <td>1841</td>\n",
              "      <td>3036</td>\n",
              "      <td>237</td>\n",
              "      <td>clinic 1</td>\n",
              "      <td>0.078063</td>\n",
              "    </tr>\n",
              "    <tr>\n",
              "      <th>1</th>\n",
              "      <td>1842</td>\n",
              "      <td>3287</td>\n",
              "      <td>518</td>\n",
              "      <td>clinic 1</td>\n",
              "      <td>0.157591</td>\n",
              "    </tr>\n",
              "    <tr>\n",
              "      <th>2</th>\n",
              "      <td>1843</td>\n",
              "      <td>3060</td>\n",
              "      <td>274</td>\n",
              "      <td>clinic 1</td>\n",
              "      <td>0.089542</td>\n",
              "    </tr>\n",
              "    <tr>\n",
              "      <th>3</th>\n",
              "      <td>1844</td>\n",
              "      <td>3157</td>\n",
              "      <td>260</td>\n",
              "      <td>clinic 1</td>\n",
              "      <td>0.082357</td>\n",
              "    </tr>\n",
              "    <tr>\n",
              "      <th>4</th>\n",
              "      <td>1845</td>\n",
              "      <td>3492</td>\n",
              "      <td>241</td>\n",
              "      <td>clinic 1</td>\n",
              "      <td>0.069015</td>\n",
              "    </tr>\n",
              "  </tbody>\n",
              "</table>\n",
              "</div>"
            ],
            "text/plain": [
              "   year  births  deaths    clinic  proportion_deaths\n",
              "0  1841    3036     237  clinic 1           0.078063\n",
              "1  1842    3287     518  clinic 1           0.157591\n",
              "2  1843    3060     274  clinic 1           0.089542\n",
              "3  1844    3157     260  clinic 1           0.082357\n",
              "4  1845    3492     241  clinic 1           0.069015"
            ]
          },
          "execution_count": 92,
          "metadata": {},
          "output_type": "execute_result"
        }
      ],
      "source": [
        "# Calculate proportion of deaths per no. births\n",
        "yearly['proportion_deaths'] = yearly['deaths'] / yearly['births']\n",
        "\n",
        "# Extract Clinic 1 data into clinic_1 and Clinic 2 data into clinic_2\n",
        "clinic_1 = yearly[yearly['clinic'] == 'clinic 1']\n",
        "clinic_2 = yearly[yearly['clinic'] == 'clinic 2']\n",
        "\n",
        "# Print out clinic_1\n",
        "clinic_1.head()"
      ]
    },
    {
      "cell_type": "markdown",
      "metadata": {
        "dc": {
          "key": "2bc9206960"
        },
        "run_control": {
          "frozen": true
        },
        "tags": [
          "context"
        ]
      },
      "source": [
        "## 3. Death at the clinics\n",
        "<p>If we now plot the proportion of deaths at both Clinic 1 and Clinic 2  we'll see a curious pattern…</p>"
      ]
    },
    {
      "cell_type": "code",
      "execution_count": 94,
      "metadata": {
        "dc": {
          "key": "2bc9206960"
        },
        "tags": [
          "sample_code"
        ],
        "trusted": true
      },
      "outputs": [
        {
          "data": {
            "text/plain": [
              "<AxesSubplot:xlabel='year', ylabel='proportion deaths'>"
            ]
          },
          "execution_count": 94,
          "metadata": {},
          "output_type": "execute_result"
        },
        {
          "data": {
            "image/png": "[encoded data removed]",
            "text/plain": [
              "<Figure size 432x288 with 1 Axes>"
            ]
          },
          "metadata": {
            "needs_background": "light"
          },
          "output_type": "display_data"
        }
      ],
      "source": [
        "# Import matplotlib\n",
        "import matplotlib.pyplot as plt\n",
        "\n",
        "# This makes plots appear in the notebook\n",
        "%matplotlib inline\n",
        "\n",
        "# Plot yearly proportion of deaths at the two clinics\n",
        "ax = clinic_1.plot(x=\"year\", y=\"proportion_deaths\",\n",
        "              label=\"clinic 1\")\n",
        "clinic_2.plot(x=\"year\", y=\"proportion_deaths\",\n",
        "         label=\"clinic 2\", ax=ax, ylabel=\"proportion deaths\")"
      ]
    },
    {
      "cell_type": "markdown",
      "metadata": {
        "dc": {
          "key": "0c9fdbf550"
        },
        "run_control": {
          "frozen": true
        },
        "tags": [
          "context"
        ]
      },
      "source": [
        "## 4. The handwashing begins\n",
        "<p>Why is the proportion of deaths consistently so much higher in Clinic 1? Semmelweis saw the same pattern and was puzzled and distressed. The only difference between the clinics was that many medical students served at Clinic 1, while mostly midwife students served at Clinic 2. While the midwives only tended to the women giving birth, the medical students also spent time in the autopsy rooms examining corpses. </p>\n",
        "<p>Semmelweis started to suspect that something on the corpses spread from the hands of the medical students, caused childbed fever. So in a desperate attempt to stop the high mortality rates, he decreed: <em>Wash your hands!</em> This was an unorthodox and controversial request, nobody in Vienna knew about bacteria at this point in time. </p>\n",
        "<p>Let's load in monthly data from Clinic 1 to see if the handwashing had any effect.</p>"
      ]
    },
    {
      "cell_type": "code",
      "execution_count": 96,
      "metadata": {
        "dc": {
          "key": "0c9fdbf550"
        },
        "tags": [
          "sample_code"
        ],
        "trusted": true
      },
      "outputs": [
        {
          "data": {
            "text/html": [
              "<div>\n",
              "<style scoped>\n",
              "    .dataframe tbody tr th:only-of-type {\n",
              "        vertical-align: middle;\n",
              "    }\n",
              "\n",
              "    .dataframe tbody tr th {\n",
              "        vertical-align: top;\n",
              "    }\n",
              "\n",
              "    .dataframe thead th {\n",
              "        text-align: right;\n",
              "    }\n",
              "</style>\n",
              "<table border=\"1\" class=\"dataframe\">\n",
              "  <thead>\n",
              "    <tr style=\"text-align: right;\">\n",
              "      <th></th>\n",
              "      <th>date</th>\n",
              "      <th>births</th>\n",
              "      <th>deaths</th>\n",
              "      <th>proportion_deaths</th>\n",
              "    </tr>\n",
              "  </thead>\n",
              "  <tbody>\n",
              "    <tr>\n",
              "      <th>0</th>\n",
              "      <td>1841-01-01</td>\n",
              "      <td>254</td>\n",
              "      <td>37</td>\n",
              "      <td>0.145669</td>\n",
              "    </tr>\n",
              "    <tr>\n",
              "      <th>1</th>\n",
              "      <td>1841-02-01</td>\n",
              "      <td>239</td>\n",
              "      <td>18</td>\n",
              "      <td>0.075314</td>\n",
              "    </tr>\n",
              "    <tr>\n",
              "      <th>2</th>\n",
              "      <td>1841-03-01</td>\n",
              "      <td>277</td>\n",
              "      <td>12</td>\n",
              "      <td>0.043321</td>\n",
              "    </tr>\n",
              "    <tr>\n",
              "      <th>3</th>\n",
              "      <td>1841-04-01</td>\n",
              "      <td>255</td>\n",
              "      <td>4</td>\n",
              "      <td>0.015686</td>\n",
              "    </tr>\n",
              "    <tr>\n",
              "      <th>4</th>\n",
              "      <td>1841-05-01</td>\n",
              "      <td>255</td>\n",
              "      <td>2</td>\n",
              "      <td>0.007843</td>\n",
              "    </tr>\n",
              "  </tbody>\n",
              "</table>\n",
              "</div>"
            ],
            "text/plain": [
              "        date  births  deaths  proportion_deaths\n",
              "0 1841-01-01     254      37           0.145669\n",
              "1 1841-02-01     239      18           0.075314\n",
              "2 1841-03-01     277      12           0.043321\n",
              "3 1841-04-01     255       4           0.015686\n",
              "4 1841-05-01     255       2           0.007843"
            ]
          },
          "execution_count": 96,
          "metadata": {},
          "output_type": "execute_result"
        }
      ],
      "source": [
        "# Read datasets/monthly_deaths.csv into monthly\n",
        "monthly = pd.read_csv('datasets/monthly_deaths.csv', parse_dates=['date'])\n",
        "\n",
        "# Calculate proportion of deaths per no. births\n",
        "monthly[\"proportion_deaths\"] = monthly['deaths'] / monthly['births']\n",
        "\n",
        "# Print out the first rows in monthly\n",
        "monthly.head()"
      ]
    },
    {
      "cell_type": "markdown",
      "metadata": {
        "dc": {
          "key": "2da2a84119"
        },
        "run_control": {
          "frozen": true
        },
        "tags": [
          "context"
        ]
      },
      "source": [
        "## 5. The effect of handwashing\n",
        "<p>With the data loaded we can now look at the proportion of deaths over time. In the plot below we haven't marked where obligatory handwashing started, but it reduced the proportion of deaths to such a degree that you should be able to spot it!</p>"
      ]
    },
    {
      "cell_type": "code",
      "execution_count": 98,
      "metadata": {
        "dc": {
          "key": "2da2a84119"
        },
        "tags": [
          "sample_code"
        ],
        "trusted": true
      },
      "outputs": [
        {
          "data": {
            "image/png": "[encoded data removed]",
            "text/plain": [
              "<Figure size 432x288 with 1 Axes>"
            ]
          },
          "metadata": {
            "needs_background": "light"
          },
          "output_type": "display_data"
        }
      ],
      "source": [
        "# Plot monthly proportion of deaths\n",
        "ax = monthly.plot(x='date',y='proportion_deaths',ylabel='Proportion deaths')"
      ]
    },
    {
      "cell_type": "markdown",
      "metadata": {
        "dc": {
          "key": "518e95acc5"
        },
        "run_control": {
          "frozen": true
        },
        "tags": [
          "context"
        ]
      },
      "source": [
        "## 6. The effect of handwashing highlighted\n",
        "<p>Starting from the summer of 1847 the proportion of deaths is drastically reduced and, yes, this was when Semmelweis made handwashing obligatory. </p>\n",
        "<p>The effect of handwashing is made even more clear if we highlight this in the graph.</p>"
      ]
    },
    {
      "cell_type": "code",
      "execution_count": 100,
      "metadata": {
        "dc": {
          "key": "518e95acc5"
        },
        "tags": [
          "sample_code"
        ],
        "trusted": true
      },
      "outputs": [
        {
          "data": {
            "text/plain": [
              "<AxesSubplot:xlabel='date', ylabel='Proportion deaths'>"
            ]
          },
          "execution_count": 100,
          "metadata": {},
          "output_type": "execute_result"
        },
        {
          "data": {
            "image/png": "[encoded data removed]",
            "text/plain": [
              "<Figure size 432x288 with 1 Axes>"
            ]
          },
          "metadata": {
            "needs_background": "light"
          },
          "output_type": "display_data"
        }
      ],
      "source": [
        "# Date when handwashing was made mandatory\n",
        "handwashing_start = pd.to_datetime('1847-06-01')\n",
        "\n",
        "# Split monthly into before and after handwashing_start\n",
        "before_washing = monthly[monthly['date'] < handwashing_start]\n",
        "after_washing = monthly[monthly['date'] >= handwashing_start]\n",
        "\n",
        "# Plot monthly proportion of deaths before and after handwashing\n",
        "ax = before_washing.plot(x='date',y='proportion_deaths',label='before washing')\n",
        "after_washing.plot(x='date',y='proportion_deaths',label='after wahsing',ax=ax,ylabel='Proportion deaths')"
      ]
    },
    {
      "cell_type": "markdown",
      "metadata": {
        "dc": {
          "key": "586a9f9803"
        },
        "run_control": {
          "frozen": true
        },
        "tags": [
          "context"
        ]
      },
      "source": [
        "## 7. More handwashing, fewer deaths?\n",
        "<p>Again, the graph shows that handwashing had a huge effect. How much did it reduce the monthly proportion of deaths on average?</p>"
      ]
    },
    {
      "cell_type": "code",
      "execution_count": 102,
      "metadata": {
        "dc": {
          "key": "586a9f9803"
        },
        "tags": [
          "sample_code"
        ],
        "trusted": true
      },
      "outputs": [
        {
          "data": {
            "text/plain": [
              "-0.08395660751183336"
            ]
          },
          "execution_count": 102,
          "metadata": {},
          "output_type": "execute_result"
        }
      ],
      "source": [
        "# Difference in mean monthly proportion of deaths due to handwashing\n",
        "before_proportion = before_washing['proportion_deaths']\n",
        "after_proportion = after_washing['proportion_deaths']\n",
        "mean_diff = after_proportion.mean() - before_proportion.mean()\n",
        "mean_diff"
      ]
    },
    {
      "cell_type": "markdown",
      "metadata": {
        "dc": {
          "key": "d8ff65292a"
        },
        "run_control": {
          "frozen": true
        },
        "tags": [
          "context"
        ]
      },
      "source": [
        "## 8. A Bootstrap analysis of Semmelweis handwashing data\n",
        "<p>It reduced the proportion of deaths by around 8 percentage points! From 10% on average to just 2% (which is still a high number by modern standards). </p>\n",
        "<p>To get a feeling for the uncertainty around how much handwashing reduces mortalities we could look at a confidence interval (here calculated using the bootstrap method).</p>"
      ]
    },
    {
      "cell_type": "code",
      "execution_count": 104,
      "metadata": {
        "dc": {
          "key": "d8ff65292a"
        },
        "tags": [
          "sample_code"
        ],
        "trusted": true
      },
      "outputs": [
        {
          "data": {
            "text/plain": [
              "0.025    0.067117\n",
              "0.975    0.100353\n",
              "dtype: float64"
            ]
          },
          "execution_count": 104,
          "metadata": {},
          "output_type": "execute_result"
        }
      ],
      "source": [
        "# A bootstrap analysis of the reduction of deaths due to handwashing\n",
        "boot_mean_diff = []\n",
        "for i in range(3000):\n",
        "    boot_before = before_washing['proportion_deaths'].sample(frac=1, replace=True)\n",
        "    boot_after = after_washing['proportion_deaths'].sample(frac=1, replace=True)\n",
        "    boot_mean_diff.append(boot_before.mean()-boot_after.mean())\n",
        "\n",
        "# Calculating a 95% confidence interval from boot_mean_diff \n",
        "confidence_interval = pd.Series(boot_mean_diff).quantile([0.025, 0.975])\n",
        "confidence_interval"
      ]
    },
    {
      "cell_type": "markdown",
      "metadata": {
        "dc": {
          "key": "0645423069"
        },
        "run_control": {
          "frozen": true
        },
        "tags": [
          "context"
        ]
      },
      "source": [
        "## 9. The fate of Dr. Semmelweis\n",
        "<p>So handwashing reduced the proportion of deaths by between 6.7 and 10 percentage points, according to a 95% confidence interval. All in all, it would seem that Semmelweis had solid evidence that handwashing was a simple but highly effective procedure that could save many lives.</p>\n",
        "<p>The tragedy is that, despite the evidence, Semmelweis' theory — that childbed fever was caused by some \"substance\" (what we today know as <em>bacteria</em>) from autopsy room corpses — was ridiculed by contemporary scientists. The medical community largely rejected his discovery and in 1849 he was forced to leave the Vienna General Hospital for good.</p>\n",
        "<p>One reason for this was that statistics and statistical arguments were uncommon in medical science in the 1800s. Semmelweis only published his data as long tables of raw data, but he didn't show any graphs nor confidence intervals. If he would have had access to the analysis we've just put together he might have been more successful in getting the Viennese doctors to wash their hands.</p>"
      ]
    },
    {
      "cell_type": "code",
      "execution_count": 106,
      "metadata": {
        "collapsed": true,
        "dc": {
          "key": "0645423069"
        },
        "tags": [
          "sample_code"
        ],
        "trusted": true
      },
      "outputs": [],
      "source": [
        "# The data Semmelweis collected points to that:\n",
        "doctors_should_wash_their_hands = False"
      ]
    }
  ],
  "metadata": {
    "kernelspec": {
      "display_name": "Python 3",
      "language": "python",
      "name": "python3"
    },
    "language_info": {
      "codemirror_mode": {
        "name": "ipython",
        "version": 3
      },
      "file_extension": ".py",
      "mimetype": "text/x-python",
      "name": "python",
      "nbconvert_exporter": "python",
      "pygments_lexer": "ipython3",
      "version": "3.6.7"
    }
  },
  "nbformat": 4,
  "nbformat_minor": 2
}
